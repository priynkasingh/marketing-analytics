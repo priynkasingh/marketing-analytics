{
 "cells": [
  {
   "cell_type": "code",
   "execution_count": 1,
   "metadata": {},
   "outputs": [],
   "source": [
    "import pandas as pd \n",
    "import numpy as np \n",
    "import matplotlib.pyplot as plt\n",
    "%matplotlib inline\n",
    "import seaborn as sns"
   ]
  },
  {
   "cell_type": "code",
   "execution_count": 2,
   "metadata": {},
   "outputs": [
    {
     "data": {
      "text/plain": [
       "(1275185, 19)"
      ]
     },
     "execution_count": 2,
     "metadata": {},
     "output_type": "execute_result"
    }
   ],
   "source": [
    "data = pd.read_csv('case_study_marketing_20210201.csv')\n",
    "data.shape"
   ]
  },
  {
   "cell_type": "code",
   "execution_count": 3,
   "metadata": {},
   "outputs": [
    {
     "data": {
      "text/plain": [
       "(1065784, 19)"
      ]
     },
     "execution_count": 3,
     "metadata": {},
     "output_type": "execute_result"
    }
   ],
   "source": [
    "data.drop_duplicates(inplace=True)\n",
    "data.shape"
   ]
  },
  {
   "cell_type": "code",
   "execution_count": 4,
   "metadata": {},
   "outputs": [
    {
     "data": {
      "text/plain": [
       "bookings            3130\n",
       "booking_amount      3130\n",
       "users_engagement       0\n",
       "pub_device             0\n",
       "market_code            0\n",
       "dtype: int64"
      ]
     },
     "execution_count": 4,
     "metadata": {},
     "output_type": "execute_result"
    }
   ],
   "source": [
    "data.isnull().sum().sort_values(ascending=False).head(5)"
   ]
  },
  {
   "cell_type": "code",
   "execution_count": 5,
   "metadata": {},
   "outputs": [
    {
     "data": {
      "text/plain": [
       "(1062654, 19)"
      ]
     },
     "execution_count": 5,
     "metadata": {},
     "output_type": "execute_result"
    }
   ],
   "source": [
    "data.dropna(axis=0,inplace=True)\n",
    "data.shape"
   ]
  },
  {
   "cell_type": "code",
   "execution_count": 6,
   "metadata": {},
   "outputs": [
    {
     "name": "stdout",
     "output_type": "stream",
     "text": [
      "Total Ads in Oct-Mar 1062654\n",
      "Total Ads shown in Oct-Mar 8474379\n",
      "Total Ads that were clicked 142622\n",
      "Total Ads that were clicked and led to a booking 1790\n",
      "Avg Click through rate through Ads shown 0.016829787763799564\n",
      "Avg Booking Conversion rate through Ads shown 0.00021122491689361546\n"
     ]
    }
   ],
   "source": [
    "no_ads = data.shape[0]\n",
    "total_impressions = data['impressions'].sum()\n",
    "impression_click = data[(data['impressions']>0) & (data['clickins']>0)].shape[0]\n",
    "impression_no_click = data[(data['impressions']>0) & (data['clickins']==0)].shape[0]\n",
    "click_n_book = data[(data['impressions']>0) & (data['clickins']>0) & (data['bookings']>0)].shape[0]\n",
    "click_nobook = data[(data['impressions']>0) & (data['clickins']>0) & (data['bookings']==0)].shape[0]\n",
    "\n",
    "print(\"Total Ads in Oct-Mar \" + str(no_ads))\n",
    "print(\"Total Ads shown in Oct-Mar \" + str(total_impressions))\n",
    "print(\"Total Ads that were clicked \" + str(impression_click))\n",
    "print(\"Total Ads that were clicked and led to a booking \" + str(click_n_book))\n",
    "print(\"Avg Click through rate through Ads shown \" + str(impression_click/total_impressions))\n",
    "print(\"Avg Booking Conversion rate through Ads shown \" + str(click_n_book/total_impressions))"
   ]
  },
  {
   "cell_type": "code",
   "execution_count": 7,
   "metadata": {},
   "outputs": [
    {
     "data": {
      "text/plain": [
       "CountryOnly      5247\n",
       "PoiOnly          5901\n",
       "HT               7939\n",
       "RegionOnly       8854\n",
       "Country         23663\n",
       "CityOnly        70610\n",
       "Region          70741\n",
       "City           592376\n",
       "Name: replacement_type_name, dtype: int64"
      ]
     },
     "execution_count": 7,
     "metadata": {},
     "output_type": "execute_result"
    }
   ],
   "source": [
    "data[data['impressions']==0].replacement_type_name.value_counts().sort_values(ascending=True)"
   ]
  },
  {
   "cell_type": "code",
   "execution_count": 8,
   "metadata": {},
   "outputs": [
    {
     "data": {
      "text/plain": [
       "(277323, 19)"
      ]
     },
     "execution_count": 8,
     "metadata": {},
     "output_type": "execute_result"
    }
   ],
   "source": [
    "df = data[data['impressions']>0].copy()\n",
    "df.shape"
   ]
  },
  {
   "cell_type": "code",
   "execution_count": 9,
   "metadata": {},
   "outputs": [
    {
     "data": {
      "text/plain": [
       "desktop    141167\n",
       "phone      111413\n",
       "tablet      24743\n",
       "Name: pub_device, dtype: int64"
      ]
     },
     "execution_count": 9,
     "metadata": {},
     "output_type": "execute_result"
    }
   ],
   "source": [
    "df['pub_device'].value_counts()"
   ]
  },
  {
   "cell_type": "code",
   "execution_count": 10,
   "metadata": {},
   "outputs": [
    {
     "data": {
      "text/html": [
       "<div>\n",
       "<style scoped>\n",
       "    .dataframe tbody tr th:only-of-type {\n",
       "        vertical-align: middle;\n",
       "    }\n",
       "\n",
       "    .dataframe tbody tr th {\n",
       "        vertical-align: top;\n",
       "    }\n",
       "\n",
       "    .dataframe thead th {\n",
       "        text-align: right;\n",
       "    }\n",
       "</style>\n",
       "<table border=\"1\" class=\"dataframe\">\n",
       "  <thead>\n",
       "    <tr style=\"text-align: right;\">\n",
       "      <th></th>\n",
       "      <th>ymd</th>\n",
       "      <th>account_id</th>\n",
       "      <th>pub_campaign_id</th>\n",
       "      <th>pub_adgroup_id</th>\n",
       "      <th>pub_keyword_id</th>\n",
       "      <th>match_type</th>\n",
       "      <th>impressions</th>\n",
       "      <th>clickins</th>\n",
       "      <th>cost</th>\n",
       "      <th>clickout</th>\n",
       "      <th>bookings</th>\n",
       "      <th>clickout_rev</th>\n",
       "      <th>booking_amount</th>\n",
       "      <th>users_engagement</th>\n",
       "    </tr>\n",
       "    <tr>\n",
       "      <th>pub_device</th>\n",
       "      <th></th>\n",
       "      <th></th>\n",
       "      <th></th>\n",
       "      <th></th>\n",
       "      <th></th>\n",
       "      <th></th>\n",
       "      <th></th>\n",
       "      <th></th>\n",
       "      <th></th>\n",
       "      <th></th>\n",
       "      <th></th>\n",
       "      <th></th>\n",
       "      <th></th>\n",
       "      <th></th>\n",
       "    </tr>\n",
       "  </thead>\n",
       "  <tbody>\n",
       "    <tr>\n",
       "      <th>desktop</th>\n",
       "      <td>2.020347e+07</td>\n",
       "      <td>521.463827</td>\n",
       "      <td>5.121867e+09</td>\n",
       "      <td>6.266894e+14</td>\n",
       "      <td>3.953062e+13</td>\n",
       "      <td>1.315548</td>\n",
       "      <td>32.821984</td>\n",
       "      <td>2.588480</td>\n",
       "      <td>37.500266</td>\n",
       "      <td>0.644287</td>\n",
       "      <td>0.007998</td>\n",
       "      <td>26.333109</td>\n",
       "      <td>0.021289</td>\n",
       "      <td>266.296032</td>\n",
       "    </tr>\n",
       "    <tr>\n",
       "      <th>phone</th>\n",
       "      <td>2.020333e+07</td>\n",
       "      <td>381.393347</td>\n",
       "      <td>9.188614e+09</td>\n",
       "      <td>1.623831e+14</td>\n",
       "      <td>1.039616e+13</td>\n",
       "      <td>1.161767</td>\n",
       "      <td>31.679992</td>\n",
       "      <td>2.608879</td>\n",
       "      <td>33.309048</td>\n",
       "      <td>0.646074</td>\n",
       "      <td>0.007486</td>\n",
       "      <td>23.438611</td>\n",
       "      <td>0.019199</td>\n",
       "      <td>266.350991</td>\n",
       "    </tr>\n",
       "    <tr>\n",
       "      <th>tablet</th>\n",
       "      <td>2.020333e+07</td>\n",
       "      <td>406.733824</td>\n",
       "      <td>7.904744e+09</td>\n",
       "      <td>3.296076e+14</td>\n",
       "      <td>2.081468e+13</td>\n",
       "      <td>1.253688</td>\n",
       "      <td>12.586792</td>\n",
       "      <td>0.760458</td>\n",
       "      <td>17.625308</td>\n",
       "      <td>0.188296</td>\n",
       "      <td>0.002546</td>\n",
       "      <td>12.097118</td>\n",
       "      <td>0.009916</td>\n",
       "      <td>265.397163</td>\n",
       "    </tr>\n",
       "  </tbody>\n",
       "</table>\n",
       "</div>"
      ],
      "text/plain": [
       "                     ymd  account_id  pub_campaign_id  pub_adgroup_id  \\\n",
       "pub_device                                                              \n",
       "desktop     2.020347e+07  521.463827     5.121867e+09    6.266894e+14   \n",
       "phone       2.020333e+07  381.393347     9.188614e+09    1.623831e+14   \n",
       "tablet      2.020333e+07  406.733824     7.904744e+09    3.296076e+14   \n",
       "\n",
       "            pub_keyword_id  match_type  impressions  clickins       cost  \\\n",
       "pub_device                                                                 \n",
       "desktop       3.953062e+13    1.315548    32.821984  2.588480  37.500266   \n",
       "phone         1.039616e+13    1.161767    31.679992  2.608879  33.309048   \n",
       "tablet        2.081468e+13    1.253688    12.586792  0.760458  17.625308   \n",
       "\n",
       "            clickout  bookings  clickout_rev  booking_amount  users_engagement  \n",
       "pub_device                                                                      \n",
       "desktop     0.644287  0.007998     26.333109        0.021289        266.296032  \n",
       "phone       0.646074  0.007486     23.438611        0.019199        266.350991  \n",
       "tablet      0.188296  0.002546     12.097118        0.009916        265.397163  "
      ]
     },
     "execution_count": 10,
     "metadata": {},
     "output_type": "execute_result"
    }
   ],
   "source": [
    "df.groupby('pub_device').mean()"
   ]
  },
  {
   "cell_type": "code",
   "execution_count": 11,
   "metadata": {},
   "outputs": [
    {
     "data": {
      "text/plain": [
       "PoiOnly           521\n",
       "CountryOnly       705\n",
       "HT               1026\n",
       "RegionOnly       1151\n",
       "Country          2017\n",
       "Region           5886\n",
       "CityOnly         7593\n",
       "Poi             39221\n",
       "City            47890\n",
       "Item           171313\n",
       "Name: replacement_type_name, dtype: int64"
      ]
     },
     "execution_count": 11,
     "metadata": {},
     "output_type": "execute_result"
    }
   ],
   "source": [
    "df.replacement_type_name.value_counts().sort_values(ascending=True)\n",
    "##Except in Item and POI Category, Ads belonging to other categories are not displayed most times."
   ]
  },
  {
   "cell_type": "code",
   "execution_count": 12,
   "metadata": {},
   "outputs": [],
   "source": [
    "##df.to_excel(\"shown_ads.xlsx\")"
   ]
  },
  {
   "cell_type": "code",
   "execution_count": 13,
   "metadata": {},
   "outputs": [],
   "source": [
    "#Country-Wise Datasets "
   ]
  },
  {
   "cell_type": "code",
   "execution_count": 14,
   "metadata": {},
   "outputs": [
    {
     "name": "stderr",
     "output_type": "stream",
     "text": [
      "<ipython-input-14-4f42f9342e4b>:1: FutureWarning: Indexing with multiple keys (implicitly converted to a tuple of keys) will be deprecated, use a list instead.\n",
      "  df_country_wise = df.groupby(\"market_code\")['impressions',\n"
     ]
    }
   ],
   "source": [
    "df_country_wise = df.groupby(\"market_code\")['impressions',\n",
    "       'clickins', 'cost', 'clickout', 'bookings', 'clickout_rev',\n",
    "       'booking_amount', 'users_engagement'].sum()"
   ]
  },
  {
   "cell_type": "code",
   "execution_count": 15,
   "metadata": {},
   "outputs": [
    {
     "data": {
      "text/plain": [
       "DE    125902\n",
       "BR     65706\n",
       "UK     53310\n",
       "AU     24232\n",
       "CA      8173\n",
       "Name: market_code, dtype: int64"
      ]
     },
     "execution_count": 15,
     "metadata": {},
     "output_type": "execute_result"
    }
   ],
   "source": [
    "df.market_code.value_counts()"
   ]
  },
  {
   "cell_type": "code",
   "execution_count": 16,
   "metadata": {},
   "outputs": [],
   "source": [
    "#revenue/cost for each market\n",
    "def calc_rev_cost(countries):\n",
    "    for i in range(5):\n",
    "        print(countries[i] + \" \" + str(df_country_wise.iloc[i][5]/df_country_wise.iloc[i][2]))"
   ]
  },
  {
   "cell_type": "code",
   "execution_count": 17,
   "metadata": {},
   "outputs": [
    {
     "data": {
      "text/html": [
       "<div>\n",
       "<style scoped>\n",
       "    .dataframe tbody tr th:only-of-type {\n",
       "        vertical-align: middle;\n",
       "    }\n",
       "\n",
       "    .dataframe tbody tr th {\n",
       "        vertical-align: top;\n",
       "    }\n",
       "\n",
       "    .dataframe thead th {\n",
       "        text-align: right;\n",
       "    }\n",
       "</style>\n",
       "<table border=\"1\" class=\"dataframe\">\n",
       "  <thead>\n",
       "    <tr style=\"text-align: right;\">\n",
       "      <th></th>\n",
       "      <th>impressions</th>\n",
       "      <th>clickins</th>\n",
       "      <th>cost</th>\n",
       "      <th>clickout</th>\n",
       "      <th>bookings</th>\n",
       "      <th>clickout_rev</th>\n",
       "      <th>booking_amount</th>\n",
       "      <th>users_engagement</th>\n",
       "    </tr>\n",
       "    <tr>\n",
       "      <th>market_code</th>\n",
       "      <th></th>\n",
       "      <th></th>\n",
       "      <th></th>\n",
       "      <th></th>\n",
       "      <th></th>\n",
       "      <th></th>\n",
       "      <th></th>\n",
       "      <th></th>\n",
       "    </tr>\n",
       "  </thead>\n",
       "  <tbody>\n",
       "    <tr>\n",
       "      <th>AU</th>\n",
       "      <td>940170</td>\n",
       "      <td>74551</td>\n",
       "      <td>2643375</td>\n",
       "      <td>29723</td>\n",
       "      <td>925.0</td>\n",
       "      <td>2281692</td>\n",
       "      <td>2339.316194</td>\n",
       "      <td>6480465</td>\n",
       "    </tr>\n",
       "    <tr>\n",
       "      <th>BR</th>\n",
       "      <td>4162998</td>\n",
       "      <td>410503</td>\n",
       "      <td>2446950</td>\n",
       "      <td>96653</td>\n",
       "      <td>666.0</td>\n",
       "      <td>1628627</td>\n",
       "      <td>1016.838303</td>\n",
       "      <td>17522732</td>\n",
       "    </tr>\n",
       "    <tr>\n",
       "      <th>CA</th>\n",
       "      <td>232249</td>\n",
       "      <td>15307</td>\n",
       "      <td>273687</td>\n",
       "      <td>6313</td>\n",
       "      <td>180.0</td>\n",
       "      <td>368897</td>\n",
       "      <td>439.216712</td>\n",
       "      <td>2144033</td>\n",
       "    </tr>\n",
       "    <tr>\n",
       "      <th>DE</th>\n",
       "      <td>1991199</td>\n",
       "      <td>112985</td>\n",
       "      <td>2797243</td>\n",
       "      <td>20817</td>\n",
       "      <td>120.0</td>\n",
       "      <td>1524480</td>\n",
       "      <td>943.660000</td>\n",
       "      <td>33527712</td>\n",
       "    </tr>\n",
       "    <tr>\n",
       "      <th>UK</th>\n",
       "      <td>1147763</td>\n",
       "      <td>61541</td>\n",
       "      <td>1279709</td>\n",
       "      <td>14086</td>\n",
       "      <td>135.0</td>\n",
       "      <td>824355</td>\n",
       "      <td>650.674524</td>\n",
       "      <td>14158955</td>\n",
       "    </tr>\n",
       "  </tbody>\n",
       "</table>\n",
       "</div>"
      ],
      "text/plain": [
       "             impressions  clickins     cost  clickout  bookings  clickout_rev  \\\n",
       "market_code                                                                     \n",
       "AU                940170     74551  2643375     29723     925.0       2281692   \n",
       "BR               4162998    410503  2446950     96653     666.0       1628627   \n",
       "CA                232249     15307   273687      6313     180.0        368897   \n",
       "DE               1991199    112985  2797243     20817     120.0       1524480   \n",
       "UK               1147763     61541  1279709     14086     135.0        824355   \n",
       "\n",
       "             booking_amount  users_engagement  \n",
       "market_code                                    \n",
       "AU              2339.316194           6480465  \n",
       "BR              1016.838303          17522732  \n",
       "CA               439.216712           2144033  \n",
       "DE               943.660000          33527712  \n",
       "UK               650.674524          14158955  "
      ]
     },
     "execution_count": 17,
     "metadata": {},
     "output_type": "execute_result"
    }
   ],
   "source": [
    "df_country_wise"
   ]
  },
  {
   "cell_type": "code",
   "execution_count": 18,
   "metadata": {},
   "outputs": [
    {
     "name": "stdout",
     "output_type": "stream",
     "text": [
      "AU 0.8631737835153922\n",
      "BR 0.6655742863564846\n",
      "CA 1.3478791466163902\n",
      "DE 0.5449937670770827\n",
      "UK 0.6441737926356695\n"
     ]
    }
   ],
   "source": [
    "#revenue/cost country-wise\n",
    "calc_rev_cost(['AU','BR','CA','DE','UK'])"
   ]
  },
  {
   "cell_type": "code",
   "execution_count": 19,
   "metadata": {},
   "outputs": [
    {
     "name": "stdout",
     "output_type": "stream",
     "text": [
      "AU 0.07929523384068839\n",
      "BR 0.09860754196855247\n",
      "CA 0.06590771112039234\n",
      "DE 0.05674219402480616\n",
      "UK 0.053618212122188987\n"
     ]
    }
   ],
   "source": [
    "#Click through rate = (no. of clickins)/(no. of impressions)  for each market\n",
    "def ctr(countries):\n",
    "    for i in range(5):\n",
    "        print(countries[i] + \" \" + str(df_country_wise.iloc[i][1]/df_country_wise.iloc[i][0]))\n",
    "\n",
    "ctr(['AU','BR','CA','DE','UK'])"
   ]
  },
  {
   "cell_type": "code",
   "execution_count": 20,
   "metadata": {},
   "outputs": [
    {
     "name": "stdout",
     "output_type": "stream",
     "text": [
      "AU 0.012407613579965393\n",
      "BR 0.001622399836298395\n",
      "CA 0.01175932579865421\n",
      "DE 0.0010620878877727132\n",
      "UK 0.002193659511545149\n"
     ]
    }
   ],
   "source": [
    "#conversion rate = (no. of bookings)/(no. of clickins)  for each market\n",
    "def conversion_rate(countries):\n",
    "    for i in range(5):\n",
    "        print(countries[i] + \" \" + str(df_country_wise.iloc[i][4]/df_country_wise.iloc[i][1]))\n",
    "\n",
    "conversion_rate(['AU','BR','CA','DE','UK'])"
   ]
  },
  {
   "cell_type": "code",
   "execution_count": 21,
   "metadata": {},
   "outputs": [
    {
     "name": "stdout",
     "output_type": "stream",
     "text": [
      "AU 0.0009838646202282567\n",
      "BR 0.00015998085994756663\n",
      "CA 0.0007750302477082786\n",
      "DE 6.026519699939584e-05\n",
      "UK 0.00011762010101388527\n"
     ]
    }
   ],
   "source": [
    "#bookings to impression ratio for each market\n",
    "\n",
    "def bookings_to_impression(countries):\n",
    "    for i in range(5):\n",
    "        print(countries[i] + \" \" + str(df_country_wise.iloc[i][4]/df_country_wise.iloc[i][0]))\n",
    "\n",
    "bookings_to_impression(['AU','BR','CA','DE','UK'])"
   ]
  },
  {
   "cell_type": "code",
   "execution_count": 22,
   "metadata": {},
   "outputs": [
    {
     "name": "stdout",
     "output_type": "stream",
     "text": [
      "AU 0.0008492461467093588\n",
      "BR 0.00010647914669029837\n",
      "CA 0.001044647108882924\n",
      "DE 3.284415673634324e-05\n",
      "UK 7.576778656030504e-05\n"
     ]
    }
   ],
   "source": [
    "# performance market wise \n",
    "\n",
    "def performance(countries):\n",
    "    for i in range(5):\n",
    "        print(countries[i] + \" \" + str((df_country_wise.iloc[i][4]/df_country_wise.iloc[i][0])*(df_country_wise.iloc[i][5]/df_country_wise.iloc[i][2]) ))\n",
    "\n",
    "performance(['AU','BR','CA','DE','UK'])\n"
   ]
  },
  {
   "cell_type": "code",
   "execution_count": 23,
   "metadata": {},
   "outputs": [],
   "source": [
    "## CA is the best performing market"
   ]
  },
  {
   "cell_type": "code",
   "execution_count": null,
   "metadata": {},
   "outputs": [],
   "source": []
  },
  {
   "cell_type": "code",
   "execution_count": null,
   "metadata": {},
   "outputs": [],
   "source": []
  },
  {
   "cell_type": "code",
   "execution_count": 24,
   "metadata": {},
   "outputs": [],
   "source": [
    "#global and market average trivago revenue per clickin"
   ]
  },
  {
   "cell_type": "code",
   "execution_count": 25,
   "metadata": {},
   "outputs": [
    {
     "data": {
      "text/plain": [
       "9.82097891943392"
      ]
     },
     "execution_count": 25,
     "metadata": {},
     "output_type": "execute_result"
    }
   ],
   "source": [
    "#global revenue per clickin \n",
    "df['clickout_rev'].sum()/df['clickins'].sum()"
   ]
  },
  {
   "cell_type": "code",
   "execution_count": 26,
   "metadata": {},
   "outputs": [
    {
     "name": "stdout",
     "output_type": "stream",
     "text": [
      "AU 30.60578664270097\n",
      "BR 3.9673936609476668\n",
      "CA 24.09988893970079\n",
      "DE 13.492764526264548\n",
      "UK 13.39521619733186\n"
     ]
    }
   ],
   "source": [
    "#market average revenue per clickin\n",
    "def rev_per_click(countries):\n",
    "    for i in range(5):\n",
    "        print(countries[i] + \" \" + str(df_country_wise.iloc[i][5]/df_country_wise.iloc[i][1]))\n",
    "\n",
    "rev_per_click(['AU','BR','CA','DE','UK'])"
   ]
  },
  {
   "cell_type": "code",
   "execution_count": null,
   "metadata": {},
   "outputs": [],
   "source": []
  },
  {
   "cell_type": "code",
   "execution_count": null,
   "metadata": {},
   "outputs": [],
   "source": []
  },
  {
   "cell_type": "code",
   "execution_count": 27,
   "metadata": {},
   "outputs": [
    {
     "name": "stdout",
     "output_type": "stream",
     "text": [
      "AU 32.13297297297297\n",
      "BR 145.12462462462463\n",
      "CA 35.07222222222222\n",
      "DE 173.475\n",
      "UK 104.34074074074074\n"
     ]
    }
   ],
   "source": [
    "#Clickout to Booking ratios\n",
    "def clickout_to_booking(countries):\n",
    "    for i in range(5):\n",
    "        print(countries[i] + \" \" + str(df_country_wise.iloc[i][3]/df_country_wise.iloc[i][4]))\n",
    "\n",
    "clickout_to_booking(['AU','BR','CA','DE','UK'])"
   ]
  },
  {
   "cell_type": "code",
   "execution_count": 28,
   "metadata": {},
   "outputs": [
    {
     "data": {
      "text/plain": [
       "<matplotlib.axes._subplots.AxesSubplot at 0x7f8901962a60>"
      ]
     },
     "execution_count": 28,
     "metadata": {},
     "output_type": "execute_result"
    },
    {
     "data": {
      "image/png": "[encoded data removed]",
      "text/plain": [
       "<Figure size 432x288 with 2 Axes>"
      ]
     },
     "metadata": {
      "needs_background": "light"
     },
     "output_type": "display_data"
    }
   ],
   "source": [
    "#Relation between Impressions and Clickouts\n",
    "sns.heatmap(df_country_wise.corr())\n",
    "#High correlation between clickout and impressions"
   ]
  },
  {
   "cell_type": "code",
   "execution_count": 29,
   "metadata": {},
   "outputs": [
    {
     "data": {
      "text/plain": [
       "market_code\n",
       "AU    1.075603\n",
       "BR    1.225246\n",
       "CA    0.826991\n",
       "DE    1.291838\n",
       "UK    1.316714\n",
       "Name: match_type, dtype: float64"
      ]
     },
     "execution_count": 29,
     "metadata": {},
     "output_type": "execute_result"
    }
   ],
   "source": [
    "df.groupby(\"market_code\")['match_type'].mean()"
   ]
  },
  {
   "cell_type": "code",
   "execution_count": null,
   "metadata": {},
   "outputs": [],
   "source": []
  },
  {
   "cell_type": "code",
   "execution_count": null,
   "metadata": {},
   "outputs": [],
   "source": []
  },
  {
   "cell_type": "code",
   "execution_count": 30,
   "metadata": {},
   "outputs": [],
   "source": [
    "#average price to pay for a conversion"
   ]
  },
  {
   "cell_type": "code",
   "execution_count": 31,
   "metadata": {},
   "outputs": [
    {
     "data": {
      "text/plain": [
       "0.7020523539757169"
      ]
     },
     "execution_count": 31,
     "metadata": {},
     "output_type": "execute_result"
    }
   ],
   "source": [
    "df['clickout_rev'].sum()/df['cost'].sum()\n",
    "#Currently the ROAS is 70.20%"
   ]
  },
  {
   "cell_type": "code",
   "execution_count": 32,
   "metadata": {},
   "outputs": [
    {
     "data": {
      "text/plain": [
       "6628051"
      ]
     },
     "execution_count": 32,
     "metadata": {},
     "output_type": "execute_result"
    }
   ],
   "source": [
    "df['clickout_rev'].sum()"
   ]
  },
  {
   "cell_type": "code",
   "execution_count": 33,
   "metadata": {},
   "outputs": [
    {
     "data": {
      "text/plain": [
       "9440964"
      ]
     },
     "execution_count": 33,
     "metadata": {},
     "output_type": "execute_result"
    }
   ],
   "source": [
    "df['cost'].sum()"
   ]
  },
  {
   "cell_type": "code",
   "execution_count": 34,
   "metadata": {},
   "outputs": [
    {
     "name": "stdout",
     "output_type": "stream",
     "text": [
      "For an 125% ROAS, the sum of costs should be 5302440.800000001\n"
     ]
    }
   ],
   "source": [
    "print(\"For an 125% ROAS, the sum of costs should be \" + str((df['clickout_rev'].sum())*(100/125)) )"
   ]
  },
  {
   "cell_type": "code",
   "execution_count": 35,
   "metadata": {},
   "outputs": [
    {
     "name": "stdout",
     "output_type": "stream",
     "text": [
      "Average price to pay for a conversion 19.12009029182578\n"
     ]
    }
   ],
   "source": [
    "print(\"Average price to pay for a conversion \" + str(5302440.800000001/df.shape[0]) )"
   ]
  },
  {
   "cell_type": "code",
   "execution_count": null,
   "metadata": {},
   "outputs": [],
   "source": []
  },
  {
   "cell_type": "code",
   "execution_count": 36,
   "metadata": {},
   "outputs": [],
   "source": [
    "#Keyword Category wise statistics"
   ]
  },
  {
   "cell_type": "code",
   "execution_count": 37,
   "metadata": {},
   "outputs": [
    {
     "name": "stderr",
     "output_type": "stream",
     "text": [
      "<ipython-input-37-691690528019>:1: FutureWarning: Indexing with multiple keys (implicitly converted to a tuple of keys) will be deprecated, use a list instead.\n",
      "  df_category_wise = df.groupby(\"replacement_type_name\")['impressions','clickins', 'cost', 'clickout', 'bookings', 'clickout_rev','booking_amount', 'users_engagement'].sum()\n"
     ]
    }
   ],
   "source": [
    "df_category_wise = df.groupby(\"replacement_type_name\")['impressions','clickins', 'cost', 'clickout', 'bookings', 'clickout_rev','booking_amount', 'users_engagement'].sum()"
   ]
  },
  {
   "cell_type": "code",
   "execution_count": 38,
   "metadata": {},
   "outputs": [
    {
     "data": {
      "text/plain": [
       "Index(['City', 'CityOnly', 'Country', 'CountryOnly', 'HT', 'Item', 'Poi',\n",
       "       'PoiOnly', 'Region', 'RegionOnly'],\n",
       "      dtype='object', name='replacement_type_name')"
      ]
     },
     "execution_count": 38,
     "metadata": {},
     "output_type": "execute_result"
    }
   ],
   "source": [
    "df_category_wise.index"
   ]
  },
  {
   "cell_type": "code",
   "execution_count": 39,
   "metadata": {},
   "outputs": [
    {
     "data": {
      "text/html": [
       "<div>\n",
       "<style scoped>\n",
       "    .dataframe tbody tr th:only-of-type {\n",
       "        vertical-align: middle;\n",
       "    }\n",
       "\n",
       "    .dataframe tbody tr th {\n",
       "        vertical-align: top;\n",
       "    }\n",
       "\n",
       "    .dataframe thead th {\n",
       "        text-align: right;\n",
       "    }\n",
       "</style>\n",
       "<table border=\"1\" class=\"dataframe\">\n",
       "  <thead>\n",
       "    <tr style=\"text-align: right;\">\n",
       "      <th></th>\n",
       "      <th>impressions</th>\n",
       "      <th>clickins</th>\n",
       "      <th>cost</th>\n",
       "      <th>clickout</th>\n",
       "      <th>bookings</th>\n",
       "      <th>clickout_rev</th>\n",
       "      <th>booking_amount</th>\n",
       "      <th>users_engagement</th>\n",
       "    </tr>\n",
       "    <tr>\n",
       "      <th>replacement_type_name</th>\n",
       "      <th></th>\n",
       "      <th></th>\n",
       "      <th></th>\n",
       "      <th></th>\n",
       "      <th></th>\n",
       "      <th></th>\n",
       "      <th></th>\n",
       "      <th></th>\n",
       "    </tr>\n",
       "  </thead>\n",
       "  <tbody>\n",
       "    <tr>\n",
       "      <th>City</th>\n",
       "      <td>246507</td>\n",
       "      <td>18946</td>\n",
       "      <td>277832</td>\n",
       "      <td>4846</td>\n",
       "      <td>58.0</td>\n",
       "      <td>200763</td>\n",
       "      <td>178.224346</td>\n",
       "      <td>12392667</td>\n",
       "    </tr>\n",
       "    <tr>\n",
       "      <th>CityOnly</th>\n",
       "      <td>93415</td>\n",
       "      <td>7317</td>\n",
       "      <td>112123</td>\n",
       "      <td>1818</td>\n",
       "      <td>27.0</td>\n",
       "      <td>77139</td>\n",
       "      <td>65.863937</td>\n",
       "      <td>2032590</td>\n",
       "    </tr>\n",
       "    <tr>\n",
       "      <th>Country</th>\n",
       "      <td>11306</td>\n",
       "      <td>652</td>\n",
       "      <td>13408</td>\n",
       "      <td>148</td>\n",
       "      <td>0.0</td>\n",
       "      <td>8536</td>\n",
       "      <td>0.000000</td>\n",
       "      <td>521507</td>\n",
       "    </tr>\n",
       "    <tr>\n",
       "      <th>CountryOnly</th>\n",
       "      <td>9975</td>\n",
       "      <td>711</td>\n",
       "      <td>12278</td>\n",
       "      <td>141</td>\n",
       "      <td>0.0</td>\n",
       "      <td>6750</td>\n",
       "      <td>0.000000</td>\n",
       "      <td>197679</td>\n",
       "    </tr>\n",
       "    <tr>\n",
       "      <th>HT</th>\n",
       "      <td>28571</td>\n",
       "      <td>2258</td>\n",
       "      <td>31281</td>\n",
       "      <td>549</td>\n",
       "      <td>5.0</td>\n",
       "      <td>21077</td>\n",
       "      <td>23.569185</td>\n",
       "      <td>267939</td>\n",
       "    </tr>\n",
       "    <tr>\n",
       "      <th>Item</th>\n",
       "      <td>6279244</td>\n",
       "      <td>498614</td>\n",
       "      <td>6537461</td>\n",
       "      <td>119817</td>\n",
       "      <td>1263.0</td>\n",
       "      <td>4430114</td>\n",
       "      <td>3400.058539</td>\n",
       "      <td>45867637</td>\n",
       "    </tr>\n",
       "    <tr>\n",
       "      <th>Poi</th>\n",
       "      <td>1753017</td>\n",
       "      <td>142661</td>\n",
       "      <td>2395357</td>\n",
       "      <td>39384</td>\n",
       "      <td>657.0</td>\n",
       "      <td>1842805</td>\n",
       "      <td>1671.758468</td>\n",
       "      <td>10557074</td>\n",
       "    </tr>\n",
       "    <tr>\n",
       "      <th>PoiOnly</th>\n",
       "      <td>6919</td>\n",
       "      <td>642</td>\n",
       "      <td>5216</td>\n",
       "      <td>139</td>\n",
       "      <td>0.0</td>\n",
       "      <td>3221</td>\n",
       "      <td>0.000000</td>\n",
       "      <td>143406</td>\n",
       "    </tr>\n",
       "    <tr>\n",
       "      <th>Region</th>\n",
       "      <td>30455</td>\n",
       "      <td>2112</td>\n",
       "      <td>37181</td>\n",
       "      <td>519</td>\n",
       "      <td>10.0</td>\n",
       "      <td>24963</td>\n",
       "      <td>33.013132</td>\n",
       "      <td>1544622</td>\n",
       "    </tr>\n",
       "    <tr>\n",
       "      <th>RegionOnly</th>\n",
       "      <td>14970</td>\n",
       "      <td>974</td>\n",
       "      <td>18827</td>\n",
       "      <td>231</td>\n",
       "      <td>6.0</td>\n",
       "      <td>12683</td>\n",
       "      <td>17.218126</td>\n",
       "      <td>308776</td>\n",
       "    </tr>\n",
       "  </tbody>\n",
       "</table>\n",
       "</div>"
      ],
      "text/plain": [
       "                       impressions  clickins     cost  clickout  bookings  \\\n",
       "replacement_type_name                                                       \n",
       "City                        246507     18946   277832      4846      58.0   \n",
       "CityOnly                     93415      7317   112123      1818      27.0   \n",
       "Country                      11306       652    13408       148       0.0   \n",
       "CountryOnly                   9975       711    12278       141       0.0   \n",
       "HT                           28571      2258    31281       549       5.0   \n",
       "Item                       6279244    498614  6537461    119817    1263.0   \n",
       "Poi                        1753017    142661  2395357     39384     657.0   \n",
       "PoiOnly                       6919       642     5216       139       0.0   \n",
       "Region                       30455      2112    37181       519      10.0   \n",
       "RegionOnly                   14970       974    18827       231       6.0   \n",
       "\n",
       "                       clickout_rev  booking_amount  users_engagement  \n",
       "replacement_type_name                                                  \n",
       "City                         200763      178.224346          12392667  \n",
       "CityOnly                      77139       65.863937           2032590  \n",
       "Country                        8536        0.000000            521507  \n",
       "CountryOnly                    6750        0.000000            197679  \n",
       "HT                            21077       23.569185            267939  \n",
       "Item                        4430114     3400.058539          45867637  \n",
       "Poi                         1842805     1671.758468          10557074  \n",
       "PoiOnly                        3221        0.000000            143406  \n",
       "Region                        24963       33.013132           1544622  \n",
       "RegionOnly                    12683       17.218126            308776  "
      ]
     },
     "execution_count": 39,
     "metadata": {},
     "output_type": "execute_result"
    }
   ],
   "source": [
    "df_category_wise"
   ]
  },
  {
   "cell_type": "code",
   "execution_count": 40,
   "metadata": {},
   "outputs": [],
   "source": [
    "def calc_rev_cost2(categories):\n",
    "    for i in range(10):\n",
    "        print(categories[i] + \"         \" + str(df_category_wise.iloc[i][5]/df_category_wise.iloc[i][2]))"
   ]
  },
  {
   "cell_type": "code",
   "execution_count": 41,
   "metadata": {},
   "outputs": [],
   "source": [
    "categories = ['City', 'CityOnly', 'Country', 'CountryOnly', 'HT', 'Item', 'Poi','PoiOnly', 'Region', 'RegionOnly']"
   ]
  },
  {
   "cell_type": "code",
   "execution_count": 42,
   "metadata": {},
   "outputs": [
    {
     "name": "stdout",
     "output_type": "stream",
     "text": [
      "City         0.7226057473581157\n",
      "CityOnly         0.6879855159066383\n",
      "Country         0.6366348448687351\n",
      "CountryOnly         0.5497638051799968\n",
      "HT         0.6737955947699882\n",
      "Item         0.6776505435367033\n",
      "Poi         0.7693237375472634\n",
      "PoiOnly         0.6175230061349694\n",
      "Region         0.6713913020090907\n",
      "RegionOnly         0.6736601689063579\n"
     ]
    }
   ],
   "source": [
    "calc_rev_cost2(categories)"
   ]
  },
  {
   "cell_type": "code",
   "execution_count": null,
   "metadata": {},
   "outputs": [],
   "source": []
  },
  {
   "cell_type": "code",
   "execution_count": null,
   "metadata": {},
   "outputs": [],
   "source": []
  },
  {
   "cell_type": "code",
   "execution_count": 43,
   "metadata": {},
   "outputs": [],
   "source": [
    "#Bidding Algorithn for Oct-Nov"
   ]
  },
  {
   "cell_type": "code",
   "execution_count": 44,
   "metadata": {},
   "outputs": [],
   "source": [
    "#df[(df['market_code']=='AU') & (df['ymd']<20201001)].to_excel('AU_sept.xlsx')"
   ]
  },
  {
   "cell_type": "code",
   "execution_count": 45,
   "metadata": {},
   "outputs": [],
   "source": [
    "#df[(df['market_code']=='AU') & (df['ymd']>=20201001) & (df['ymd']<20201201)].to_excel('AU_oct_nov.xlsx')"
   ]
  },
  {
   "cell_type": "code",
   "execution_count": 46,
   "metadata": {},
   "outputs": [],
   "source": [
    "AU_sept = df[(df['market_code']=='AU') & (df['ymd']<20201001)]\n",
    "AU_oct_nov = df[(df['market_code']=='AU') & (df['ymd']>=20201001) & (df['ymd']<20201201)]"
   ]
  },
  {
   "cell_type": "code",
   "execution_count": 47,
   "metadata": {},
   "outputs": [
    {
     "data": {
      "text/html": [
       "<div>\n",
       "<style scoped>\n",
       "    .dataframe tbody tr th:only-of-type {\n",
       "        vertical-align: middle;\n",
       "    }\n",
       "\n",
       "    .dataframe tbody tr th {\n",
       "        vertical-align: top;\n",
       "    }\n",
       "\n",
       "    .dataframe thead th {\n",
       "        text-align: right;\n",
       "    }\n",
       "</style>\n",
       "<table border=\"1\" class=\"dataframe\">\n",
       "  <thead>\n",
       "    <tr style=\"text-align: right;\">\n",
       "      <th></th>\n",
       "      <th>ymd</th>\n",
       "      <th>account_id</th>\n",
       "      <th>pub_campaign_id</th>\n",
       "      <th>pub_adgroup_id</th>\n",
       "      <th>pub_keyword_id</th>\n",
       "      <th>match_type</th>\n",
       "      <th>impressions</th>\n",
       "      <th>clickins</th>\n",
       "      <th>cost</th>\n",
       "      <th>clickout</th>\n",
       "      <th>bookings</th>\n",
       "      <th>clickout_rev</th>\n",
       "      <th>booking_amount</th>\n",
       "      <th>users_engagement</th>\n",
       "    </tr>\n",
       "  </thead>\n",
       "  <tbody>\n",
       "    <tr>\n",
       "      <th>count</th>\n",
       "      <td>9.838000e+03</td>\n",
       "      <td>9838.000000</td>\n",
       "      <td>9.838000e+03</td>\n",
       "      <td>9.838000e+03</td>\n",
       "      <td>9.838000e+03</td>\n",
       "      <td>9838.000000</td>\n",
       "      <td>9838.000000</td>\n",
       "      <td>9838.000000</td>\n",
       "      <td>9838.000000</td>\n",
       "      <td>9838.000000</td>\n",
       "      <td>9838.000000</td>\n",
       "      <td>9838.000000</td>\n",
       "      <td>9838.000000</td>\n",
       "      <td>9838.000000</td>\n",
       "    </tr>\n",
       "    <tr>\n",
       "      <th>mean</th>\n",
       "      <td>2.020091e+07</td>\n",
       "      <td>654.495426</td>\n",
       "      <td>4.982061e+09</td>\n",
       "      <td>3.021849e+14</td>\n",
       "      <td>1.973985e+13</td>\n",
       "      <td>0.793352</td>\n",
       "      <td>12.655011</td>\n",
       "      <td>0.902318</td>\n",
       "      <td>30.653893</td>\n",
       "      <td>0.355662</td>\n",
       "      <td>0.011994</td>\n",
       "      <td>25.100630</td>\n",
       "      <td>0.030570</td>\n",
       "      <td>261.849360</td>\n",
       "    </tr>\n",
       "    <tr>\n",
       "      <th>std</th>\n",
       "      <td>6.963604e+00</td>\n",
       "      <td>371.869698</td>\n",
       "      <td>5.399044e+09</td>\n",
       "      <td>5.253641e+14</td>\n",
       "      <td>3.322475e+13</td>\n",
       "      <td>0.924456</td>\n",
       "      <td>53.092540</td>\n",
       "      <td>3.968811</td>\n",
       "      <td>137.283662</td>\n",
       "      <td>1.597324</td>\n",
       "      <td>0.138459</td>\n",
       "      <td>110.293511</td>\n",
       "      <td>0.360013</td>\n",
       "      <td>169.821305</td>\n",
       "    </tr>\n",
       "    <tr>\n",
       "      <th>min</th>\n",
       "      <td>2.020090e+07</td>\n",
       "      <td>391.000000</td>\n",
       "      <td>1.361523e+08</td>\n",
       "      <td>2.532901e+09</td>\n",
       "      <td>1.014277e+07</td>\n",
       "      <td>0.000000</td>\n",
       "      <td>1.000000</td>\n",
       "      <td>0.000000</td>\n",
       "      <td>0.000000</td>\n",
       "      <td>0.000000</td>\n",
       "      <td>0.000000</td>\n",
       "      <td>0.000000</td>\n",
       "      <td>0.000000</td>\n",
       "      <td>0.000000</td>\n",
       "    </tr>\n",
       "    <tr>\n",
       "      <th>25%</th>\n",
       "      <td>2.020091e+07</td>\n",
       "      <td>391.000000</td>\n",
       "      <td>2.144440e+08</td>\n",
       "      <td>2.645393e+10</td>\n",
       "      <td>2.325807e+09</td>\n",
       "      <td>0.000000</td>\n",
       "      <td>1.000000</td>\n",
       "      <td>0.000000</td>\n",
       "      <td>0.000000</td>\n",
       "      <td>0.000000</td>\n",
       "      <td>0.000000</td>\n",
       "      <td>0.000000</td>\n",
       "      <td>0.000000</td>\n",
       "      <td>126.000000</td>\n",
       "    </tr>\n",
       "    <tr>\n",
       "      <th>50%</th>\n",
       "      <td>2.020091e+07</td>\n",
       "      <td>391.000000</td>\n",
       "      <td>3.677443e+08</td>\n",
       "      <td>1.128581e+11</td>\n",
       "      <td>1.163794e+11</td>\n",
       "      <td>0.000000</td>\n",
       "      <td>3.000000</td>\n",
       "      <td>0.000000</td>\n",
       "      <td>0.000000</td>\n",
       "      <td>0.000000</td>\n",
       "      <td>0.000000</td>\n",
       "      <td>0.000000</td>\n",
       "      <td>0.000000</td>\n",
       "      <td>248.000000</td>\n",
       "    </tr>\n",
       "    <tr>\n",
       "      <th>75%</th>\n",
       "      <td>2.020092e+07</td>\n",
       "      <td>1127.000000</td>\n",
       "      <td>1.117366e+10</td>\n",
       "      <td>1.151796e+11</td>\n",
       "      <td>7.545435e+13</td>\n",
       "      <td>2.000000</td>\n",
       "      <td>10.000000</td>\n",
       "      <td>1.000000</td>\n",
       "      <td>33.000000</td>\n",
       "      <td>0.000000</td>\n",
       "      <td>0.000000</td>\n",
       "      <td>0.000000</td>\n",
       "      <td>0.000000</td>\n",
       "      <td>374.000000</td>\n",
       "    </tr>\n",
       "    <tr>\n",
       "      <th>max</th>\n",
       "      <td>2.020093e+07</td>\n",
       "      <td>2475.000000</td>\n",
       "      <td>1.118065e+10</td>\n",
       "      <td>1.223757e+15</td>\n",
       "      <td>7.648514e+13</td>\n",
       "      <td>2.000000</td>\n",
       "      <td>2501.000000</td>\n",
       "      <td>193.000000</td>\n",
       "      <td>6999.000000</td>\n",
       "      <td>72.000000</td>\n",
       "      <td>5.000000</td>\n",
       "      <td>4972.000000</td>\n",
       "      <td>14.253441</td>\n",
       "      <td>1016.000000</td>\n",
       "    </tr>\n",
       "  </tbody>\n",
       "</table>\n",
       "</div>"
      ],
      "text/plain": [
       "                ymd   account_id  pub_campaign_id  pub_adgroup_id  \\\n",
       "count  9.838000e+03  9838.000000     9.838000e+03    9.838000e+03   \n",
       "mean   2.020091e+07   654.495426     4.982061e+09    3.021849e+14   \n",
       "std    6.963604e+00   371.869698     5.399044e+09    5.253641e+14   \n",
       "min    2.020090e+07   391.000000     1.361523e+08    2.532901e+09   \n",
       "25%    2.020091e+07   391.000000     2.144440e+08    2.645393e+10   \n",
       "50%    2.020091e+07   391.000000     3.677443e+08    1.128581e+11   \n",
       "75%    2.020092e+07  1127.000000     1.117366e+10    1.151796e+11   \n",
       "max    2.020093e+07  2475.000000     1.118065e+10    1.223757e+15   \n",
       "\n",
       "       pub_keyword_id   match_type  impressions     clickins         cost  \\\n",
       "count    9.838000e+03  9838.000000  9838.000000  9838.000000  9838.000000   \n",
       "mean     1.973985e+13     0.793352    12.655011     0.902318    30.653893   \n",
       "std      3.322475e+13     0.924456    53.092540     3.968811   137.283662   \n",
       "min      1.014277e+07     0.000000     1.000000     0.000000     0.000000   \n",
       "25%      2.325807e+09     0.000000     1.000000     0.000000     0.000000   \n",
       "50%      1.163794e+11     0.000000     3.000000     0.000000     0.000000   \n",
       "75%      7.545435e+13     2.000000    10.000000     1.000000    33.000000   \n",
       "max      7.648514e+13     2.000000  2501.000000   193.000000  6999.000000   \n",
       "\n",
       "          clickout     bookings  clickout_rev  booking_amount  \\\n",
       "count  9838.000000  9838.000000   9838.000000     9838.000000   \n",
       "mean      0.355662     0.011994     25.100630        0.030570   \n",
       "std       1.597324     0.138459    110.293511        0.360013   \n",
       "min       0.000000     0.000000      0.000000        0.000000   \n",
       "25%       0.000000     0.000000      0.000000        0.000000   \n",
       "50%       0.000000     0.000000      0.000000        0.000000   \n",
       "75%       0.000000     0.000000      0.000000        0.000000   \n",
       "max      72.000000     5.000000   4972.000000       14.253441   \n",
       "\n",
       "       users_engagement  \n",
       "count       9838.000000  \n",
       "mean         261.849360  \n",
       "std          169.821305  \n",
       "min            0.000000  \n",
       "25%          126.000000  \n",
       "50%          248.000000  \n",
       "75%          374.000000  \n",
       "max         1016.000000  "
      ]
     },
     "execution_count": 47,
     "metadata": {},
     "output_type": "execute_result"
    }
   ],
   "source": [
    "AU_sept.describe()"
   ]
  },
  {
   "cell_type": "code",
   "execution_count": 48,
   "metadata": {},
   "outputs": [
    {
     "data": {
      "text/html": [
       "<div>\n",
       "<style scoped>\n",
       "    .dataframe tbody tr th:only-of-type {\n",
       "        vertical-align: middle;\n",
       "    }\n",
       "\n",
       "    .dataframe tbody tr th {\n",
       "        vertical-align: top;\n",
       "    }\n",
       "\n",
       "    .dataframe thead th {\n",
       "        text-align: right;\n",
       "    }\n",
       "</style>\n",
       "<table border=\"1\" class=\"dataframe\">\n",
       "  <thead>\n",
       "    <tr style=\"text-align: right;\">\n",
       "      <th></th>\n",
       "      <th>ymd</th>\n",
       "      <th>account_id</th>\n",
       "      <th>pub_campaign_id</th>\n",
       "      <th>pub_adgroup_id</th>\n",
       "      <th>pub_keyword_id</th>\n",
       "      <th>match_type</th>\n",
       "      <th>impressions</th>\n",
       "      <th>clickins</th>\n",
       "      <th>cost</th>\n",
       "      <th>clickout</th>\n",
       "      <th>bookings</th>\n",
       "      <th>clickout_rev</th>\n",
       "      <th>booking_amount</th>\n",
       "      <th>users_engagement</th>\n",
       "    </tr>\n",
       "  </thead>\n",
       "  <tbody>\n",
       "    <tr>\n",
       "      <th>count</th>\n",
       "      <td>5.974000e+03</td>\n",
       "      <td>5974.000000</td>\n",
       "      <td>5.974000e+03</td>\n",
       "      <td>5.974000e+03</td>\n",
       "      <td>5.974000e+03</td>\n",
       "      <td>5974.000000</td>\n",
       "      <td>5974.00000</td>\n",
       "      <td>5974.000000</td>\n",
       "      <td>5974.000000</td>\n",
       "      <td>5974.000000</td>\n",
       "      <td>5974.000000</td>\n",
       "      <td>5974.000000</td>\n",
       "      <td>5974.000000</td>\n",
       "      <td>5974.000000</td>\n",
       "    </tr>\n",
       "    <tr>\n",
       "      <th>mean</th>\n",
       "      <td>2.020106e+07</td>\n",
       "      <td>666.679946</td>\n",
       "      <td>6.862072e+09</td>\n",
       "      <td>4.416066e+14</td>\n",
       "      <td>2.776402e+13</td>\n",
       "      <td>1.238868</td>\n",
       "      <td>60.63224</td>\n",
       "      <td>5.592233</td>\n",
       "      <td>208.794443</td>\n",
       "      <td>2.231503</td>\n",
       "      <td>0.068966</td>\n",
       "      <td>188.960161</td>\n",
       "      <td>0.174575</td>\n",
       "      <td>272.441078</td>\n",
       "    </tr>\n",
       "    <tr>\n",
       "      <th>std</th>\n",
       "      <td>5.116117e+01</td>\n",
       "      <td>360.201509</td>\n",
       "      <td>5.301109e+09</td>\n",
       "      <td>5.846051e+14</td>\n",
       "      <td>3.648081e+13</td>\n",
       "      <td>0.962040</td>\n",
       "      <td>235.03339</td>\n",
       "      <td>21.943227</td>\n",
       "      <td>821.878581</td>\n",
       "      <td>8.785641</td>\n",
       "      <td>0.400399</td>\n",
       "      <td>728.358685</td>\n",
       "      <td>1.029037</td>\n",
       "      <td>193.164000</td>\n",
       "    </tr>\n",
       "    <tr>\n",
       "      <th>min</th>\n",
       "      <td>2.020100e+07</td>\n",
       "      <td>391.000000</td>\n",
       "      <td>1.361524e+08</td>\n",
       "      <td>2.532925e+09</td>\n",
       "      <td>1.010479e+07</td>\n",
       "      <td>0.000000</td>\n",
       "      <td>1.00000</td>\n",
       "      <td>0.000000</td>\n",
       "      <td>0.000000</td>\n",
       "      <td>0.000000</td>\n",
       "      <td>0.000000</td>\n",
       "      <td>0.000000</td>\n",
       "      <td>0.000000</td>\n",
       "      <td>0.000000</td>\n",
       "    </tr>\n",
       "    <tr>\n",
       "      <th>25%</th>\n",
       "      <td>2.020101e+07</td>\n",
       "      <td>391.000000</td>\n",
       "      <td>3.677442e+08</td>\n",
       "      <td>1.124756e+11</td>\n",
       "      <td>2.458794e+10</td>\n",
       "      <td>0.000000</td>\n",
       "      <td>20.00000</td>\n",
       "      <td>1.000000</td>\n",
       "      <td>38.000000</td>\n",
       "      <td>0.000000</td>\n",
       "      <td>0.000000</td>\n",
       "      <td>0.000000</td>\n",
       "      <td>0.000000</td>\n",
       "      <td>116.000000</td>\n",
       "    </tr>\n",
       "    <tr>\n",
       "      <th>50%</th>\n",
       "      <td>2.020103e+07</td>\n",
       "      <td>391.000000</td>\n",
       "      <td>1.117366e+10</td>\n",
       "      <td>1.124761e+11</td>\n",
       "      <td>3.189941e+11</td>\n",
       "      <td>2.000000</td>\n",
       "      <td>23.00000</td>\n",
       "      <td>3.000000</td>\n",
       "      <td>102.000000</td>\n",
       "      <td>1.000000</td>\n",
       "      <td>0.000000</td>\n",
       "      <td>85.000000</td>\n",
       "      <td>0.000000</td>\n",
       "      <td>245.000000</td>\n",
       "    </tr>\n",
       "    <tr>\n",
       "      <th>75%</th>\n",
       "      <td>2.020111e+07</td>\n",
       "      <td>1127.000000</td>\n",
       "      <td>1.118065e+10</td>\n",
       "      <td>1.212762e+15</td>\n",
       "      <td>7.579794e+13</td>\n",
       "      <td>2.000000</td>\n",
       "      <td>47.00000</td>\n",
       "      <td>5.000000</td>\n",
       "      <td>183.750000</td>\n",
       "      <td>2.000000</td>\n",
       "      <td>0.000000</td>\n",
       "      <td>181.000000</td>\n",
       "      <td>0.000000</td>\n",
       "      <td>389.000000</td>\n",
       "    </tr>\n",
       "    <tr>\n",
       "      <th>max</th>\n",
       "      <td>2.020113e+07</td>\n",
       "      <td>2475.000000</td>\n",
       "      <td>1.118065e+10</td>\n",
       "      <td>1.223757e+15</td>\n",
       "      <td>7.648514e+13</td>\n",
       "      <td>2.000000</td>\n",
       "      <td>10166.00000</td>\n",
       "      <td>949.000000</td>\n",
       "      <td>35916.000000</td>\n",
       "      <td>380.000000</td>\n",
       "      <td>16.000000</td>\n",
       "      <td>33221.000000</td>\n",
       "      <td>39.410526</td>\n",
       "      <td>1181.000000</td>\n",
       "    </tr>\n",
       "  </tbody>\n",
       "</table>\n",
       "</div>"
      ],
      "text/plain": [
       "                ymd   account_id  pub_campaign_id  pub_adgroup_id  \\\n",
       "count  5.974000e+03  5974.000000     5.974000e+03    5.974000e+03   \n",
       "mean   2.020106e+07   666.679946     6.862072e+09    4.416066e+14   \n",
       "std    5.116117e+01   360.201509     5.301109e+09    5.846051e+14   \n",
       "min    2.020100e+07   391.000000     1.361524e+08    2.532925e+09   \n",
       "25%    2.020101e+07   391.000000     3.677442e+08    1.124756e+11   \n",
       "50%    2.020103e+07   391.000000     1.117366e+10    1.124761e+11   \n",
       "75%    2.020111e+07  1127.000000     1.118065e+10    1.212762e+15   \n",
       "max    2.020113e+07  2475.000000     1.118065e+10    1.223757e+15   \n",
       "\n",
       "       pub_keyword_id   match_type  impressions     clickins          cost  \\\n",
       "count    5.974000e+03  5974.000000   5974.00000  5974.000000   5974.000000   \n",
       "mean     2.776402e+13     1.238868     60.63224     5.592233    208.794443   \n",
       "std      3.648081e+13     0.962040    235.03339    21.943227    821.878581   \n",
       "min      1.010479e+07     0.000000      1.00000     0.000000      0.000000   \n",
       "25%      2.458794e+10     0.000000     20.00000     1.000000     38.000000   \n",
       "50%      3.189941e+11     2.000000     23.00000     3.000000    102.000000   \n",
       "75%      7.579794e+13     2.000000     47.00000     5.000000    183.750000   \n",
       "max      7.648514e+13     2.000000  10166.00000   949.000000  35916.000000   \n",
       "\n",
       "          clickout     bookings  clickout_rev  booking_amount  \\\n",
       "count  5974.000000  5974.000000   5974.000000     5974.000000   \n",
       "mean      2.231503     0.068966    188.960161        0.174575   \n",
       "std       8.785641     0.400399    728.358685        1.029037   \n",
       "min       0.000000     0.000000      0.000000        0.000000   \n",
       "25%       0.000000     0.000000      0.000000        0.000000   \n",
       "50%       1.000000     0.000000     85.000000        0.000000   \n",
       "75%       2.000000     0.000000    181.000000        0.000000   \n",
       "max     380.000000    16.000000  33221.000000       39.410526   \n",
       "\n",
       "       users_engagement  \n",
       "count       5974.000000  \n",
       "mean         272.441078  \n",
       "std          193.164000  \n",
       "min            0.000000  \n",
       "25%          116.000000  \n",
       "50%          245.000000  \n",
       "75%          389.000000  \n",
       "max         1181.000000  "
      ]
     },
     "execution_count": 48,
     "metadata": {},
     "output_type": "execute_result"
    }
   ],
   "source": [
    "AU_oct_nov.describe()"
   ]
  },
  {
   "cell_type": "code",
   "execution_count": 49,
   "metadata": {},
   "outputs": [
    {
     "data": {
      "text/html": [
       "<div>\n",
       "<style scoped>\n",
       "    .dataframe tbody tr th:only-of-type {\n",
       "        vertical-align: middle;\n",
       "    }\n",
       "\n",
       "    .dataframe tbody tr th {\n",
       "        vertical-align: top;\n",
       "    }\n",
       "\n",
       "    .dataframe thead th {\n",
       "        text-align: right;\n",
       "    }\n",
       "</style>\n",
       "<table border=\"1\" class=\"dataframe\">\n",
       "  <thead>\n",
       "    <tr style=\"text-align: right;\">\n",
       "      <th></th>\n",
       "      <th>0</th>\n",
       "    </tr>\n",
       "  </thead>\n",
       "  <tbody>\n",
       "    <tr>\n",
       "      <th>impressions</th>\n",
       "      <td>1.245000e+05</td>\n",
       "    </tr>\n",
       "    <tr>\n",
       "      <th>clickins</th>\n",
       "      <td>8.877000e+03</td>\n",
       "    </tr>\n",
       "    <tr>\n",
       "      <th>cost</th>\n",
       "      <td>3.015730e+05</td>\n",
       "    </tr>\n",
       "    <tr>\n",
       "      <th>clickout</th>\n",
       "      <td>3.499000e+03</td>\n",
       "    </tr>\n",
       "    <tr>\n",
       "      <th>bookings</th>\n",
       "      <td>1.180000e+02</td>\n",
       "    </tr>\n",
       "    <tr>\n",
       "      <th>clickout_rev</th>\n",
       "      <td>2.469400e+05</td>\n",
       "    </tr>\n",
       "    <tr>\n",
       "      <th>booking_amount</th>\n",
       "      <td>3.007496e+02</td>\n",
       "    </tr>\n",
       "    <tr>\n",
       "      <th>users_engagement</th>\n",
       "      <td>2.576074e+06</td>\n",
       "    </tr>\n",
       "  </tbody>\n",
       "</table>\n",
       "</div>"
      ],
      "text/plain": [
       "                             0\n",
       "impressions       1.245000e+05\n",
       "clickins          8.877000e+03\n",
       "cost              3.015730e+05\n",
       "clickout          3.499000e+03\n",
       "bookings          1.180000e+02\n",
       "clickout_rev      2.469400e+05\n",
       "booking_amount    3.007496e+02\n",
       "users_engagement  2.576074e+06"
      ]
     },
     "execution_count": 49,
     "metadata": {},
     "output_type": "execute_result"
    }
   ],
   "source": [
    "AU_sept[['impressions','clickins', 'cost', 'clickout', 'bookings', 'clickout_rev','booking_amount', 'users_engagement']].sum().to_frame()"
   ]
  },
  {
   "cell_type": "code",
   "execution_count": 50,
   "metadata": {},
   "outputs": [
    {
     "data": {
      "text/html": [
       "<div>\n",
       "<style scoped>\n",
       "    .dataframe tbody tr th:only-of-type {\n",
       "        vertical-align: middle;\n",
       "    }\n",
       "\n",
       "    .dataframe tbody tr th {\n",
       "        vertical-align: top;\n",
       "    }\n",
       "\n",
       "    .dataframe thead th {\n",
       "        text-align: right;\n",
       "    }\n",
       "</style>\n",
       "<table border=\"1\" class=\"dataframe\">\n",
       "  <thead>\n",
       "    <tr style=\"text-align: right;\">\n",
       "      <th></th>\n",
       "      <th>0</th>\n",
       "    </tr>\n",
       "  </thead>\n",
       "  <tbody>\n",
       "    <tr>\n",
       "      <th>impressions</th>\n",
       "      <td>3.622170e+05</td>\n",
       "    </tr>\n",
       "    <tr>\n",
       "      <th>clickins</th>\n",
       "      <td>3.340800e+04</td>\n",
       "    </tr>\n",
       "    <tr>\n",
       "      <th>cost</th>\n",
       "      <td>1.247338e+06</td>\n",
       "    </tr>\n",
       "    <tr>\n",
       "      <th>clickout</th>\n",
       "      <td>1.333100e+04</td>\n",
       "    </tr>\n",
       "    <tr>\n",
       "      <th>bookings</th>\n",
       "      <td>4.120000e+02</td>\n",
       "    </tr>\n",
       "    <tr>\n",
       "      <th>clickout_rev</th>\n",
       "      <td>1.128848e+06</td>\n",
       "    </tr>\n",
       "    <tr>\n",
       "      <th>booking_amount</th>\n",
       "      <td>1.042912e+03</td>\n",
       "    </tr>\n",
       "    <tr>\n",
       "      <th>users_engagement</th>\n",
       "      <td>1.627563e+06</td>\n",
       "    </tr>\n",
       "  </tbody>\n",
       "</table>\n",
       "</div>"
      ],
      "text/plain": [
       "                             0\n",
       "impressions       3.622170e+05\n",
       "clickins          3.340800e+04\n",
       "cost              1.247338e+06\n",
       "clickout          1.333100e+04\n",
       "bookings          4.120000e+02\n",
       "clickout_rev      1.128848e+06\n",
       "booking_amount    1.042912e+03\n",
       "users_engagement  1.627563e+06"
      ]
     },
     "execution_count": 50,
     "metadata": {},
     "output_type": "execute_result"
    }
   ],
   "source": [
    "AU_oct_nov[['impressions','clickins', 'cost', 'clickout', 'bookings', 'clickout_rev','booking_amount', 'users_engagement']].sum().to_frame()"
   ]
  },
  {
   "cell_type": "code",
   "execution_count": null,
   "metadata": {},
   "outputs": [],
   "source": []
  },
  {
   "cell_type": "code",
   "execution_count": null,
   "metadata": {},
   "outputs": [],
   "source": []
  },
  {
   "cell_type": "code",
   "execution_count": null,
   "metadata": {},
   "outputs": [],
   "source": []
  },
  {
   "cell_type": "code",
   "execution_count": null,
   "metadata": {},
   "outputs": [],
   "source": []
  }
 ],
 "metadata": {
  "kernelspec": {
   "display_name": "Python 3",
   "language": "python",
   "name": "python3"
  },
  "language_info": {
   "codemirror_mode": {
    "name": "ipython",
    "version": 3
   },
   "file_extension": ".py",
   "mimetype": "text/x-python",
   "name": "python",
   "nbconvert_exporter": "python",
   "pygments_lexer": "ipython3",
   "version": "3.8.3"
  }
 },
 "nbformat": 4,
 "nbformat_minor": 4
}
